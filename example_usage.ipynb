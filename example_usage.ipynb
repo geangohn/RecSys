{
 "cells": [
  {
   "cell_type": "code",
   "execution_count": null,
   "metadata": {},
   "outputs": [],
   "source": [
    "import pandas as pd\n",
    "import scipy.sparse as sparse\n",
    "\n",
    "from code.preprocessing import Dataset\n",
    "from core.database.db import DB\n",
    "from code.metrics import fuzzy, precision\n",
    "from implicit.als import AlternatingLeastSquares\n",
    "\n",
    "db = DB(db='recsys')\n",
    "from code.preprocessing import filter_old_cards, filter_rare_cards, filter_rare_goods, filter_old_goods, filter_by_quantile\n",
    "%load_ext autoreload\n",
    "%autoreload 2"
   ]
  },
  {
   "cell_type": "markdown",
   "metadata": {},
   "source": [
    "### Препроцессинг трейна"
   ]
  },
  {
   "cell_type": "code",
   "execution_count": null,
   "metadata": {},
   "outputs": [
    {
     "name": "stdout",
     "output_type": "stream",
     "text": [
      "Shape: 17985532\n",
      "Shape without rare goods: 17591183\n",
      "Shape without rare cards: 17231447\n",
      "Shape without old cards: 13718026\n",
      "Shape without old goods: 12065529\n"
     ]
    }
   ],
   "source": [
    "train = pd.read_sql('select * from db.train', con = db.engine)\n",
    "print('Shape: %s' % train.shape[0])\n",
    "\n",
    "train = filter_rare_goods(train, rarity_num=5)\n",
    "print('Shape without rare goods: %s' % train.shape[0])\n",
    "\n",
    "train = filter_rare_cards(train, rarity_num=5)\n",
    "print('Shape without rare cards: %s' % train.shape[0])\n",
    "\n",
    "train = filter_old_cards(train, month_threshold=1)\n",
    "print('Shape without old cards: %s' % train.shape[0])\n",
    "\n",
    "train = filter_old_goods(train, month_threshold=1)\n",
    "print('Shape without old goods: %s' % train.shape[0])\n",
    "\n",
    "train = filter_by_quantile(train, plu_count_quantiles=(0.5, 0.99), cards_count_quantiles=(0.4, 0.99))\n",
    "print('Shape without low and high quantiles: %s' % train.shape[0])"
   ]
  },
  {
   "cell_type": "code",
   "execution_count": 3,
   "metadata": {},
   "outputs": [],
   "source": [
    "ds = Dataset(train)\n",
    "matrix = ds.make_matrix()\n",
    "matrix = ds.transform(matrix, method='clip', clip_upper_value=1000)\n",
    "matrix = ds.transform(matrix, method='log')\n",
    "matrix = ds.apply_weights(matrix, weight='bm25')"
   ]
  },
  {
   "cell_type": "markdown",
   "metadata": {},
   "source": [
    "## Подготовка и очистка тестового сета"
   ]
  },
  {
   "cell_type": "code",
   "execution_count": 4,
   "metadata": {},
   "outputs": [],
   "source": [
    "products = pd.read_sql('select * from db.products', con = db.engine)\n",
    "test = pd.read_sql('select * from db.test', con = db.engine)\n",
    "val = pd.read_sql('select * from db.val', con = db.engine)\n",
    "\n",
    "test.columns = [x.lower() for x in test.columns]\n",
    "products.columns = [x.lower() for x in products.columns]\n",
    "val.columns = [x.lower() for x in val.columns]\n",
    "\n",
    "crd_no_unique_train = matrix.index.unique()\n",
    "plu_id_unique_train = matrix.columns.unique()\n",
    "test = test[test['crd_no'].isin(crd_no_unique_train)]\n",
    "test = test[test['plu_id'].isin(plu_id_unique_train)]\n",
    "val = val[val['crd_no'].isin(crd_no_unique_train)]\n",
    "val = val[val['plu_id'].isin(plu_id_unique_train)]\n",
    "\n",
    "plu_category_dict = products.set_index('plu_id').to_dict()['level_2_name']\n",
    "val_facts_dict = dict(val[['crd_no', 'plu_id']].groupby('crd_no').apply(lambda x: x['plu_id'].unique().tolist()))\n",
    "test_facts_dict = dict(test[['crd_no', 'plu_id']].groupby('crd_no').apply(lambda x: x['plu_id'].unique().tolist()))\n",
    "\n",
    "plu_price = pd.read_sql('select * from db.plu_price', con=db.engine)\n",
    "plu_price['mean_price'] = plu_price['mean_price'].astype('float16')\n",
    "plu_price = dict(plu_price[['plu_id', 'mean_price']].values.tolist())"
   ]
  },
  {
   "cell_type": "markdown",
   "metadata": {},
   "source": [
    "### Строим модель"
   ]
  },
  {
   "cell_type": "code",
   "execution_count": 6,
   "metadata": {},
   "outputs": [
    {
     "data": {
      "application/vnd.jupyter.widget-view+json": {
       "model_id": "bb795754a0a948c3980b22ffb05804a0",
       "version_major": 2,
       "version_minor": 0
      },
      "text/plain": [
       "HBox(children=(IntProgress(value=0, max=20), HTML(value='')))"
      ]
     },
     "metadata": {},
     "output_type": "display_data"
    },
    {
     "name": "stdout",
     "output_type": "stream",
     "text": [
      "\n"
     ]
    }
   ],
   "source": [
    "model = AlternatingLeastSquares(factors=50, regularization=0.0001, \n",
    "                                iterations=20, num_threads=16,\n",
    "                                calculate_training_loss=True)\n",
    "model.fit(sparse.csr_matrix(matrix).T.tocsr(), show_progress=True)"
   ]
  },
  {
   "cell_type": "markdown",
   "metadata": {},
   "source": [
    "### Проверяем метрики"
   ]
  },
  {
   "cell_type": "code",
   "execution_count": 73,
   "metadata": {},
   "outputs": [
    {
     "name": "stdout",
     "output_type": "stream",
     "text": [
      "CPU times: user 31.7 s, sys: 35.9 s, total: 1min 7s\n",
      "Wall time: 54.4 s\n"
     ]
    }
   ],
   "source": [
    "%%time\n",
    "fz = fuzzy(matrix, model, val_facts_dict, plu_category_dict, weight_by_price=False)\n",
    "prc = precision(matrix, model, val_facts_dict, weight_by_price=False)\n",
    "fz_w = fuzzy(matrix, model, val_facts_dict, plu_category_dict, plu_price=plu_price)\n",
    "prc_w = precision(matrix, model, val_facts_dict, plu_price=plu_price)"
   ]
  },
  {
   "cell_type": "code",
   "execution_count": 74,
   "metadata": {},
   "outputs": [
    {
     "name": "stdout",
     "output_type": "stream",
     "text": [
      "Fuzzy: 0.571240600323802\n",
      "Fuzzy Weighted: 0.5640391714805725\n",
      "Precision: 0.025803834737907417\n",
      "Precision Weighted: 0.12764180505283507\n"
     ]
    }
   ],
   "source": [
    "print('Fuzzy: %s' % fz)\n",
    "print('Fuzzy Weighted: %s' % fz_w)\n",
    "print('Precision: %s' % prc)\n",
    "print('Precision Weighted: %s' % prc_w)"
   ]
  },
  {
   "cell_type": "code",
   "execution_count": null,
   "metadata": {},
   "outputs": [],
   "source": []
  }
 ],
 "metadata": {
  "kernelspec": {
   "display_name": "Python 3",
   "language": "python",
   "name": "python3"
  },
  "language_info": {
   "codemirror_mode": {
    "name": "ipython",
    "version": 3
   },
   "file_extension": ".py",
   "mimetype": "text/x-python",
   "name": "python",
   "nbconvert_exporter": "python",
   "pygments_lexer": "ipython3",
   "version": "3.6.8"
  }
 },
 "nbformat": 4,
 "nbformat_minor": 2
}
